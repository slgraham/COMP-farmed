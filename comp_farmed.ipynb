{
 "cells": [
  {
   "cell_type": "markdown",
   "metadata": {},
   "source": [
    "Replace `my_address` with your Ethereum address and then run the next two cells"
   ]
  },
  {
   "cell_type": "code",
   "execution_count": null,
   "metadata": {},
   "outputs": [],
   "source": [
    "my_address = 'my_address' ## input your address here"
   ]
  },
  {
   "cell_type": "code",
   "execution_count": null,
   "metadata": {
    "tags": []
   },
   "outputs": [],
   "source": [
    "from comp_farmed import *\n",
    "\n",
    "my_wallet = Web3.toChecksumAddress(my_address)\n",
    "\n",
    "my_comp = get_comp(my_wallet)\n",
    "my_comp_value = my_comp * comp_usd_price()\n",
    "\n",
    "print('My COMP: ', round(my_comp,4))\n",
    "print('My COMP value: ', '$' + str(round(my_comp_value, 2)))"
   ]
  },
  {
   "cell_type": "code",
   "execution_count": null,
   "metadata": {},
   "outputs": [],
   "source": []
  }
 ],
 "metadata": {
  "language_info": {
   "codemirror_mode": {
    "name": "ipython",
    "version": 3
   },
   "file_extension": ".py",
   "mimetype": "text/x-python",
   "name": "python",
   "nbconvert_exporter": "python",
   "pygments_lexer": "ipython3",
   "version": "3.8.1-final"
  },
  "orig_nbformat": 2,
  "kernelspec": {
   "name": "python38164bit0e20a8a74f4d4c8d8b87a4822d87b056",
   "display_name": "Python 3.8.1 64-bit"
  }
 },
 "nbformat": 4,
 "nbformat_minor": 2
}