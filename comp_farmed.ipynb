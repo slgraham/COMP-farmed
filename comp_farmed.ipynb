{
 "cells": [
  {
   "cell_type": "code",
   "execution_count": null,
   "metadata": {},
   "outputs": [],
   "source": [
    "import json\n",
    "from web3 import Web3, HTTPProvider"
   ]
  },
  {
   "cell_type": "code",
   "execution_count": null,
   "metadata": {},
   "outputs": [],
   "source": [
    "# your wallet address\n",
    "my_wallet = Web3.toChecksumAddress('my_address')\n",
    "\n",
    "# compound contracts\n",
    "comp = Web3.toChecksumAddress('0xc00e94cb662c3520282e6f5717214004a7f26888')\n",
    "comptroller = Web3.toChecksumAddress('0x3d9819210a31b4961b30ef54be2aed79b9c9cd3b')\n",
    "lens = Web3.toChecksumAddress('0xd513d22422a3062Bd342Ae374b4b9c20E0a9a074')\n",
    "\n",
    "# set up connection to infura\n",
    "infura_project_id = 'your_infura_id'\n",
    "infura_url = 'https://mainnet.infura.io/v3/' + infura_project_id\n",
    "w3 = Web3(Web3.HTTPProvider(infura_url))\n",
    "\n",
    "# load the lens contract ABI\n",
    "with open('lens.json') as file:\n",
    "    abi_json = json.load(file)\n",
    "lens_abi = abi_json\n",
    "\n",
    "# create the lens contract object\n",
    "lens_contract = w3.eth.contract(address = lens, \n",
    "                                          abi = lens_abi)"
   ]
  },
  {
   "cell_type": "code",
   "execution_count": null,
   "metadata": {},
   "outputs": [],
   "source": [
    "# gets total COMP earned by an address: the sum of current balance and current accrued\n",
    "\n",
    "def get_comp(address):\n",
    "    metadata = lens_contract.functions.getCompBalanceMetadataExt(comp, comptroller, address).call()\n",
    "    held = metadata[0]\n",
    "    accrued = metadata[3]\n",
    "    return (held + accrued) / 10**18"
   ]
  },
  {
   "cell_type": "code",
   "execution_count": null,
   "metadata": {
    "tags": []
   },
   "outputs": [],
   "source": [
    "my_comp = get_comp(my_wallet)\n",
    "\n",
    "print('My COMP: ', round(my_comp,4))"
   ]
  },
  {
   "cell_type": "code",
   "execution_count": null,
   "metadata": {},
   "outputs": [],
   "source": []
  }
 ],
 "metadata": {
  "language_info": {
   "codemirror_mode": {
    "name": "ipython",
    "version": 3
   },
   "file_extension": ".py",
   "mimetype": "text/x-python",
   "name": "python",
   "nbconvert_exporter": "python",
   "pygments_lexer": "ipython3",
   "version": "3.8.1-final"
  },
  "orig_nbformat": 2,
  "kernelspec": {
   "name": "python38164bit0e20a8a74f4d4c8d8b87a4822d87b056",
   "display_name": "Python 3.8.1 64-bit"
  }
 },
 "nbformat": 4,
 "nbformat_minor": 2
}